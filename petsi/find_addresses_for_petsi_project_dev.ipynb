{
 "cells": [
  {
   "cell_type": "code",
   "execution_count": 1,
   "metadata": {},
   "outputs": [],
   "source": [
    "import pandas as pd\n",
    "from random import seed, sample\n",
    "\n",
    "from IPython.display import display\n",
    "\n",
    "from ipymarkup import show_markup, AsciiMarkup\n",
    "\n",
    "from yargy import (\n",
    "    Parser,\n",
    "    or_, rule\n",
    ")\n",
    "from yargy.pipelines import morph_pipeline\n",
    "from yargy.predicates import (\n",
    "    eq, lte, gte, gram, type, tag,\n",
    "    length_eq,\n",
    "    in_, in_caseless, dictionary,\n",
    "    normalized, caseless,\n",
    "    is_title, custom\n",
    ")\n",
    "\n",
    "from yargy.tokenizer import MorphTokenizer\n",
    "from yargy import interpretation as interp\n",
    "from yargy.interpretation import fact, attribute\n",
    "\n",
    "import sys\n",
    "sys.path.append('/home/bun/natasha')\n",
    "\n",
    "from natasha_expanded.grammars import address"
   ]
  },
  {
   "cell_type": "code",
   "execution_count": 6,
   "metadata": {},
   "outputs": [],
   "source": [
    "data = pd.read_csv('scrp_data_lost_and_found_22_11_2018.csv')\n",
    "\n",
    "lines = data['msg_text'].tolist()"
   ]
  },
  {
   "cell_type": "code",
   "execution_count": null,
   "metadata": {},
   "outputs": [],
   "source": []
  },
  {
   "cell_type": "code",
   "execution_count": null,
   "metadata": {},
   "outputs": [],
   "source": []
  },
  {
   "cell_type": "code",
   "execution_count": 159,
   "metadata": {},
   "outputs": [],
   "source": [
    "def load_lines(path):\n",
    "    with open(path) as file:\n",
    "        for line in file:\n",
    "            yield line.rstrip('\\n')\n",
    "            \n",
    "            \n",
    "METRO_STATIONS = list(load_lines('metro.txt'))\n",
    "\n",
    "def load_text(path):\n",
    "    with open(path) as file:\n",
    "        return file.read()\n",
    "    \n",
    "metro_names = load_text('metro_names.csv').split('\\n')"
   ]
  },
  {
   "cell_type": "code",
   "execution_count": null,
   "metadata": {},
   "outputs": [],
   "source": []
  },
  {
   "cell_type": "code",
   "execution_count": 6,
   "metadata": {},
   "outputs": [],
   "source": []
  },
  {
   "cell_type": "code",
   "execution_count": 36,
   "metadata": {},
   "outputs": [],
   "source": [
    "def show_matches(rule, *lines):\n",
    "    parser = Parser(rule)\n",
    "    for line in lines:\n",
    "        matches = parser.findall(line)\n",
    "        matches = sorted(matches, key=lambda _: _.span)\n",
    "        spans = [_.span for _ in matches]\n",
    "        show_markup(line, spans)"
   ]
  },
  {
   "cell_type": "code",
   "execution_count": 2,
   "metadata": {},
   "outputs": [],
   "source": [
    "import requests\n",
    "from functools import lru_cache\n",
    "\n",
    "YNDX_GEO_KEY = '29d541ba-6887-4e71-be53-b00d7e178147'\n",
    "\n",
    "@lru_cache(maxsize=2**11)\n",
    "def get_coordinates(geocode):\n",
    "    r = requests.get(f'https://geocode-maps.yandex.ru/1.x/?apikey={YNDX_GEO_KEY}&geocode={geocode}&format=json&results=1')\n",
    "    featureMember = r.json()['response']['GeoObjectCollection']['featureMember']\n",
    "    if featureMember:\n",
    "        r = featureMember[0]['GeoObject']['Point']['pos']\n",
    "        long, lat = [float(i) for i in r.split(' ')]\n",
    "        return long, lat\n",
    "    else:\n",
    "        return None, None"
   ]
  },
  {
   "cell_type": "code",
   "execution_count": 2,
   "metadata": {},
   "outputs": [],
   "source": [
    "FIND_ADDRESS = [\n",
    "    address.METRO,\n",
    "    address.STREET_LEVEL,\n",
    "    address.GOROD_LEVEL,\n",
    "    address.RAION]\n",
    "\n",
    "def find_address(text):\n",
    "    for lev in FIND_ADDRESS:\n",
    "        pars = Parser(lev)\n",
    "        matc = pars.findall(text)\n",
    "        facts = [_.span for _ in matc]\n",
    "        if facts:\n",
    "            for fact in facts:\n",
    "                return text[fact[0]:fact[1]], get_coordinates(text[fact[0]:fact[1]])"
   ]
  },
  {
   "cell_type": "code",
   "execution_count": 11,
   "metadata": {},
   "outputs": [],
   "source": [
    "Address = fact(\n",
    "    'Address',\n",
    "    [attribute('parts').repeatable()]\n",
    ")"
   ]
  },
  {
   "cell_type": "code",
   "execution_count": 191,
   "metadata": {},
   "outputs": [],
   "source": [
    "FIND_ADDRESS = or_(\n",
    "    address.METRO.interpretation(\n",
    "        Address.parts\n",
    "    ),\n",
    "    address.STREET_LEVEL_CUSTOM.interpretation(\n",
    "        Address.parts\n",
    "    ),\n",
    "    address.GOROD_LEVEL.interpretation(\n",
    "        Address.parts\n",
    "    ),\n",
    "    address.RAION.interpretation(\n",
    "        Address.parts\n",
    "    ),\n",
    "    OTHER_OBJECTS.interpretation(\n",
    "        Address.parts\n",
    "    )\n",
    ").interpretation(Address)"
   ]
  },
  {
   "cell_type": "code",
   "execution_count": 218,
   "metadata": {
    "scrolled": true
   },
   "outputs": [],
   "source": [
    "def find_address(text):\n",
    "        pars = Parser(FIND_ADDRESS)\n",
    "        matc = pars.findall(text)\n",
    "        #print(list(matc))        \n",
    "        facts = [_.span for _ in matc]\n",
    "        return ' '.join([text[f[0]:f[1]] for f in facts])"
   ]
  },
  {
   "cell_type": "code",
   "execution_count": 219,
   "metadata": {},
   "outputs": [],
   "source": [
    "text = \"\"\"5.12.17 №32214 кобель, Взрослый Черный с белым,хвост пушистый,не купированный, больше темного окраса,или просто грязный. в районе Можайское шоссе, бегает собака(мальчик),грязный,похож на русского спаниеля. Заметили его дней 5-6 тому назад,близко не подходит,кажется с коричневым ошейником,упитанный.может кто ищет Найден(а) в районе Москва ул.Толбухина, ул Говорово 89163894451 Ирина mussirina@mail.ru\"\"\""
   ]
  },
  {
   "cell_type": "code",
   "execution_count": 216,
   "metadata": {
    "scrolled": true
   },
   "outputs": [
    {
     "name": "stdout",
     "output_type": "stream",
     "text": [
      "[Street(name='Можайское', type='шоссе')]\n"
     ]
    }
   ],
   "source": [
    "pars = Parser(FIND_ADDRESS)\n",
    "matc = pars.findall(text)\n",
    "facts = [_.fact for _ in matc]\n",
    "print(facts[0].parts)"
   ]
  },
  {
   "cell_type": "code",
   "execution_count": null,
   "metadata": {},
   "outputs": [],
   "source": []
  },
  {
   "cell_type": "code",
   "execution_count": null,
   "metadata": {},
   "outputs": [],
   "source": []
  },
  {
   "cell_type": "code",
   "execution_count": 221,
   "metadata": {},
   "outputs": [
    {
     "data": {
      "text/plain": [
       "(37.395509, 55.718796)"
      ]
     },
     "execution_count": 221,
     "metadata": {},
     "output_type": "execute_result"
    }
   ],
   "source": [
    "get_coordinates(find_address(text))"
   ]
  },
  {
   "cell_type": "code",
   "execution_count": 116,
   "metadata": {},
   "outputs": [
    {
     "data": {
      "text/html": [
       "<div class=\"tex2jax_ignore\" style=\"white-space: pre-wrap\">5.12.17 №32214 кобель, Взрослый Черный с белым,хвост пушистый,не купированный, больше темного окраса,или просто грязный. в районе <span style=\"padding: 2px; border-radius: 4px; border: 1px solid #bbdefb; background: #e3f2fd\">Можайское шоссе,</span> бегает собака(мальчик),грязный,похож на русского спаниеля. Заметили его дней 5-6 тому назад,близко не подходит,кажется с коричневым ошейником,упитанный.может кто ищет Найден(а) в районе <span style=\"padding: 2px; border-radius: 4px; border: 1px solid #bbdefb; background: #e3f2fd\">Москва</span> <span style=\"padding: 2px; border-radius: 4px; border: 1px solid #bbdefb; background: #e3f2fd\">ул.Толбухина,</span> <span style=\"padding: 2px; border-radius: 4px; border: 1px solid #bbdefb; background: #e3f2fd\">ул Говорово</span> 89163894451 Ирина mussirina@mail.ru</div>"
      ],
      "text/plain": [
       "BoxMarkup('5.12.17 №32214 кобель, Взрослый Черный с белым,хвост пушистый,не купированный, больше темного окраса,или просто грязный. в районе Можайское шоссе, бегает собака(мальчик),грязный,похож на русского спаниеля. Заметили его дней 5-6 тому назад,близко не подходит,кажется с коричневым ошейником,упитанный.может кто ищет Найден(а) в районе Москва ул.Толбухина, ул Говорово 89163894451 Ирина mussirina@mail.ru',\n",
       "          [Span(130, 146, None),\n",
       "           Span(333, 339, None),\n",
       "           Span(340, 353, None),\n",
       "           Span(354, 365, None)])"
      ]
     },
     "metadata": {},
     "output_type": "display_data"
    }
   ],
   "source": [
    "show_matches(FIND_ADDRESS, text)"
   ]
  },
  {
   "cell_type": "code",
   "execution_count": 125,
   "metadata": {},
   "outputs": [
    {
     "data": {
      "text/plain": [
       "(37.458732, 55.804172)"
      ]
     },
     "execution_count": 125,
     "metadata": {},
     "output_type": "execute_result"
    }
   ],
   "source": [
    "get_coordinates('Москва Метро Щукинская улице Академика Бочвара')"
   ]
  },
  {
   "cell_type": "code",
   "execution_count": null,
   "metadata": {},
   "outputs": [],
   "source": []
  },
  {
   "cell_type": "code",
   "execution_count": 217,
   "metadata": {
    "scrolled": true
   },
   "outputs": [
    {
     "data": {
      "text/html": [
       "<div class=\"tex2jax_ignore\" style=\"white-space: pre-wrap\">Сегодня, 13.05.2018 №33091 кобель, Около года Совсем молодой курцхар — белый с коричневым крапом, тёмно- коричневые уши и большое ровное круглое пятно на крупе. Доброжелательный, но в руки не даётся. Тянется к собакам. 2 дорогих ошейника. Адресника и клейм в ушах при кормежке не заметили. Найден(а) в районе <span style=\"padding: 2px; border-radius: 4px; border: 1px solid #bbdefb; background: #e3f2fd\">Московская</span> область, <span style=\"padding: 2px; border-radius: 4px; border: 1px solid #bbdefb; background: #e3f2fd\">Дмитровский район</span>, <span style=\"padding: 2px; border-radius: 4px; border: 1px solid #bbdefb; background: #e3f2fd\">село Орудьево</span>, СНТ Экспресс 9057375317 Елена s_elena2001@mail.ru</div>"
      ],
      "text/plain": [
       "BoxMarkup('Сегодня, 13.05.2018 №33091 кобель, Около года Совсем молодой курцхар — белый с коричневым крапом, тёмно- коричневые уши и большое ровное круглое пятно на крупе. Доброжелательный, но в руки не даётся. Тянется к собакам. 2 дорогих ошейника. Адресника и клейм в ушах при кормежке не заметили. Найден(а) в районе Московская область, Дмитровский район, село Орудьево, СНТ Экспресс 9057375317 Елена s_elena2001@mail.ru',\n",
       "          [Span(309, 319, None), Span(329, 346, None), Span(348, 361, None)])"
      ]
     },
     "metadata": {},
     "output_type": "display_data"
    },
    {
     "name": "stdout",
     "output_type": "stream",
     "text": [
      "Московская Дмитровский район село Орудьево\n"
     ]
    },
    {
     "data": {
      "text/html": [
       "<div class=\"tex2jax_ignore\" style=\"white-space: pre-wrap\"><span style=\"padding: 2px; border-radius: 4px; border: 1px solid #bbdefb; background: #e3f2fd\">Долгопрудный</span>, <span style=\"padding: 2px; border-radius: 4px; border: 1px solid #bbdefb; background: #e3f2fd\">Проспект Пацаева</span> - найдена собака в ошейнике. Добрая, команды выполняет, игривая. По дороге бродила. Чуть машина не сбила. Хозяин, отзовись!</div>"
      ],
      "text/plain": [
       "BoxMarkup('Долгопрудный, Проспект Пацаева - найдена собака в ошейнике. Добрая, команды выполняет, игривая. По дороге бродила. Чуть машина не сбила. Хозяин, отзовись!',\n",
       "          [Span(0, 12, None), Span(14, 30, None)])"
      ]
     },
     "metadata": {},
     "output_type": "display_data"
    },
    {
     "name": "stdout",
     "output_type": "stream",
     "text": [
      "Долгопрудный Проспект Пацаева\n"
     ]
    },
    {
     "data": {
      "text/html": [
       "<div class=\"tex2jax_ignore\" style=\"white-space: pre-wrap\">29.12.17 №32336 кобель,  Собачка не боится людей , слепая , с чёрным потертым ошейником Найден(а) в районе <span style=\"padding: 2px; border-radius: 4px; border: 1px solid #bbdefb; background: #e3f2fd\">Можайское шоссе</span> 89850693464 Валерия lerapups007@rambler.ru</div>"
      ],
      "text/plain": [
       "BoxMarkup('29.12.17 №32336 кобель,  Собачка не боится людей , слепая , с чёрным потертым ошейником Найден(а) в районе Можайское шоссе 89850693464 Валерия lerapups007@rambler.ru',\n",
       "          [Span(107, 122, None)])"
      ]
     },
     "metadata": {},
     "output_type": "display_data"
    },
    {
     "name": "stdout",
     "output_type": "stream",
     "text": [
      "Можайское шоссе\n"
     ]
    },
    {
     "data": {
      "text/html": [
       "<div class=\"tex2jax_ignore\" style=\"white-space: pre-wrap\">17 ноября в районе доронинского рынка( <span style=\"padding: 2px; border-radius: 4px; border: 1px solid #bbdefb; background: #e3f2fd\">фрунзенский</span> район) найден щеночек, в широком коричневом ошейнике. Девочка, возраст около 4 месяев. Малышка была очень голодная и замерзшая. Хозяева отзовитесь!</div>"
      ],
      "text/plain": [
       "BoxMarkup('17 ноября в районе доронинского рынка( фрунзенский район) найден щеночек, в широком коричневом ошейнике. Девочка, возраст около 4 месяев. Малышка была очень голодная и замерзшая. Хозяева отзовитесь!',\n",
       "          [Span(39, 50, None)])"
      ]
     },
     "metadata": {},
     "output_type": "display_data"
    },
    {
     "name": "stdout",
     "output_type": "stream",
     "text": [
      "фрунзенский\n"
     ]
    },
    {
     "data": {
      "text/html": [
       "<div class=\"tex2jax_ignore\" style=\"white-space: pre-wrap\">21.06.2019 21. 00 №33261 кобель, 7 лет примерно Старе Чёрный пудель, на спинке седые волосы, мальчик Найден(а) в районе Жд станция Валентиновка около Пяторочки бегает чёрный пудель, потеряшка 89163836416 </div>"
      ],
      "text/plain": [
       "BoxMarkup('21.06.2019 21. 00 №33261 кобель, 7 лет примерно Старе Чёрный пудель, на спинке седые волосы, мальчик Найден(а) в районе Жд станция Валентиновка около Пяторочки бегает чёрный пудель, потеряшка 89163836416 ',\n",
       "          [])"
      ]
     },
     "metadata": {},
     "output_type": "display_data"
    },
    {
     "name": "stdout",
     "output_type": "stream",
     "text": [
      "\n"
     ]
    },
    {
     "data": {
      "text/html": [
       "<div class=\"tex2jax_ignore\" style=\"white-space: pre-wrap\">В районе пересечения 11 парковой и Верх.<span style=\"padding: 2px; border-radius: 4px; border: 1px solid #bbdefb; background: #e3f2fd\">Первомайской</span> найдена собачка.</div>"
      ],
      "text/plain": [
       "BoxMarkup('В районе пересечения 11 парковой и Верх.Первомайской найдена собачка.',\n",
       "          [Span(40, 52, None)])"
      ]
     },
     "metadata": {},
     "output_type": "display_data"
    },
    {
     "name": "stdout",
     "output_type": "stream",
     "text": [
      "Первомайской\n"
     ]
    },
    {
     "data": {
      "text/html": [
       "<div class=\"tex2jax_ignore\" style=\"white-space: pre-wrap\">Найдена - ТАКСА, кобель, 1, 5 -2 года. окрас темно рыжий</div>"
      ],
      "text/plain": [
       "BoxMarkup('Найдена - ТАКСА, кобель, 1, 5 -2 года. окрас темно рыжий', [])"
      ]
     },
     "metadata": {},
     "output_type": "display_data"
    },
    {
     "name": "stdout",
     "output_type": "stream",
     "text": [
      "\n"
     ]
    },
    {
     "data": {
      "text/html": [
       "<div class=\"tex2jax_ignore\" style=\"white-space: pre-wrap\">На <span style=\"padding: 2px; border-radius: 4px; border: 1px solid #bbdefb; background: #e3f2fd\">Угрешской</span> <span style=\"padding: 2px; border-radius: 4px; border: 1px solid #bbdefb; background: #e3f2fd\">ул. Конечная трамваев 43</span>, 40, 20, бегает кобель с ошейником. Высокий, худой.</div>"
      ],
      "text/plain": [
       "BoxMarkup('На Угрешской ул. Конечная трамваев 43, 40, 20, бегает кобель с ошейником. Высокий, худой.',\n",
       "          [Span(3, 12, None), Span(13, 37, None)])"
      ]
     },
     "metadata": {},
     "output_type": "display_data"
    },
    {
     "name": "stdout",
     "output_type": "stream",
     "text": [
      "Угрешской ул. Конечная трамваев 43\n"
     ]
    },
    {
     "data": {
      "text/html": [
       "<div class=\"tex2jax_ignore\" style=\"white-space: pre-wrap\">22.11.2017 12:30 №32080 кобель, Около года В районе <span style=\"padding: 2px; border-radius: 4px; border: 1px solid #bbdefb; background: #e3f2fd\">Открытого шоссе</span> появился метис овчарки, молодой кобелёк (подросток), дружелюбный, послушный, очень любит детей. В каждом взрослом видит хозяина- ластится. Найден(а) в районе <span style=\"padding: 2px; border-radius: 4px; border: 1px solid #bbdefb; background: #e3f2fd\">открытое шоссе 8</span>-926-076-77-17 Ольга</div>"
      ],
      "text/plain": [
       "BoxMarkup('22.11.2017 12:30 №32080 кобель, Около года В районе Открытого шоссе появился метис овчарки, молодой кобелёк (подросток), дружелюбный, послушный, очень любит детей. В каждом взрослом видит хозяина- ластится. Найден(а) в районе открытое шоссе 8-926-076-77-17 Ольга',\n",
       "          [Span(52, 67, None), Span(226, 242, None)])"
      ]
     },
     "metadata": {},
     "output_type": "display_data"
    },
    {
     "name": "stdout",
     "output_type": "stream",
     "text": [
      "Открытого шоссе открытое шоссе 8\n"
     ]
    },
    {
     "data": {
      "text/html": [
       "<div class=\"tex2jax_ignore\" style=\"white-space: pre-wrap\">02.07.2017 №31062 сука, 1 год Молодая девочка белого цвета Найден(а) в районе <span style=\"padding: 2px; border-radius: 4px; border: 1px solid #bbdefb; background: #e3f2fd\">Балашиха</span> <span style=\"padding: 2px; border-radius: 4px; border: 1px solid #bbdefb; background: #e3f2fd\">Московской</span> области 89031551338 Елена e_lenka09@mail.ru</div>"
      ],
      "text/plain": [
       "BoxMarkup('02.07.2017 №31062 сука, 1 год Молодая девочка белого цвета Найден(а) в районе Балашиха Московской области 89031551338 Елена e_lenka09@mail.ru',\n",
       "          [Span(78, 86, None), Span(87, 97, None)])"
      ]
     },
     "metadata": {},
     "output_type": "display_data"
    },
    {
     "name": "stdout",
     "output_type": "stream",
     "text": [
      "Балашиха Московской\n"
     ]
    }
   ],
   "source": [
    "for line in sample(lines, 10):\n",
    "    show_matches(FIND_ADDRESS, line)\n",
    "    print(find_address(line))"
   ]
  },
  {
   "cell_type": "code",
   "execution_count": null,
   "metadata": {},
   "outputs": [],
   "source": [
    "около Бц Двинцев\n",
    " у ТЦ \"Сота\n",
    "станция ПРАВДА\n",
    "районе СНТ \"Сосновый бор\" \n",
    "СНТ надежда\n",
    "парка Фили\n",
    "Садоводство Ларионово\n",
    "на киевском вокзале\n",
    "ПРОСПЕКТ КОМСОМОЛЬСКИЙ\n",
    "сао\n",
    "ст. Ильинская-быково"
   ]
  },
  {
   "cell_type": "code",
   "execution_count": null,
   "metadata": {},
   "outputs": [],
   "source": []
  },
  {
   "cell_type": "code",
   "execution_count": null,
   "metadata": {},
   "outputs": [],
   "source": []
  },
  {
   "cell_type": "code",
   "execution_count": null,
   "metadata": {},
   "outputs": [],
   "source": []
  },
  {
   "cell_type": "code",
   "execution_count": null,
   "metadata": {},
   "outputs": [],
   "source": []
  },
  {
   "cell_type": "code",
   "execution_count": null,
   "metadata": {},
   "outputs": [],
   "source": []
  }
 ],
 "metadata": {
  "kernelspec": {
   "display_name": "Python 3",
   "language": "python",
   "name": "python3"
  },
  "language_info": {
   "codemirror_mode": {
    "name": "ipython",
    "version": 3
   },
   "file_extension": ".py",
   "mimetype": "text/x-python",
   "name": "python",
   "nbconvert_exporter": "python",
   "pygments_lexer": "ipython3",
   "version": "3.7.2"
  }
 },
 "nbformat": 4,
 "nbformat_minor": 2
}
